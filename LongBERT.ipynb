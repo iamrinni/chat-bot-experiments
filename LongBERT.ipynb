{
  "nbformat": 4,
  "nbformat_minor": 0,
  "metadata": {
    "colab": {
      "provenance": [],
      "gpuType": "T4"
    },
    "kernelspec": {
      "name": "python3",
      "display_name": "Python 3"
    },
    "language_info": {
      "name": "python"
    },
    "accelerator": "GPU"
  },
  "cells": [
    {
      "cell_type": "code",
      "execution_count": null,
      "metadata": {
        "id": "xT47Zwcd0lYj"
      },
      "outputs": [],
      "source": [
        "import torch\n",
        "import re\n",
        "import os\n",
        "from tqdm import tqdm\n",
        "import pandas as pd\n",
        "import numpy as np\n",
        "import random\n",
        "from torch.utils.data import DataLoader, random_split\n",
        "from transformers import BertForSequenceClassification, BertTokenizer, AdamW"
      ]
    },
    {
      "cell_type": "code",
      "source": [
        "# upladed 2 archives to colab env from\n",
        "# https://www.google.com/url?q=http://www.cs.cornell.edu/people/pabo/movie-review-data/&sa=D&source=docs&ust=1706778831826672&usg=AOvVaw1AiWreoABbjsg2-WY0Adgi\n",
        "# unzip them:"
      ],
      "metadata": {
        "id": "4e1L0uM1upwy"
      },
      "execution_count": null,
      "outputs": []
    },
    {
      "cell_type": "code",
      "source": [
        "! tar -xvzf /content/scale_data.tar.gz"
      ],
      "metadata": {
        "id": "6FOxxgWhSKYI",
        "colab": {
          "base_uri": "https://localhost:8080/"
        },
        "outputId": "74247c45-da0d-4cc9-e531-e45c0a7f3ce9"
      },
      "execution_count": null,
      "outputs": [
        {
          "output_type": "stream",
          "name": "stdout",
          "text": [
            "scaledata.README.1.0.txt\n",
            "scaledata/Dennis+Schwartz/\n",
            "scaledata/Dennis+Schwartz/subj.Dennis+Schwartz\n",
            "scaledata/Dennis+Schwartz/id.Dennis+Schwartz\n",
            "scaledata/Dennis+Schwartz/rating.Dennis+Schwartz\n",
            "scaledata/Dennis+Schwartz/label.3class.Dennis+Schwartz\n",
            "scaledata/Dennis+Schwartz/label.4class.Dennis+Schwartz\n",
            "scaledata/James+Berardinelli/\n",
            "scaledata/James+Berardinelli/subj.James+Berardinelli\n",
            "scaledata/James+Berardinelli/id.James+Berardinelli\n",
            "scaledata/James+Berardinelli/rating.James+Berardinelli\n",
            "scaledata/James+Berardinelli/label.3class.James+Berardinelli\n",
            "scaledata/James+Berardinelli/label.4class.James+Berardinelli\n",
            "scaledata/Scott+Renshaw/\n",
            "scaledata/Scott+Renshaw/subj.Scott+Renshaw\n",
            "scaledata/Scott+Renshaw/id.Scott+Renshaw\n",
            "scaledata/Scott+Renshaw/rating.Scott+Renshaw\n",
            "scaledata/Scott+Renshaw/label.3class.Scott+Renshaw\n",
            "scaledata/Scott+Renshaw/label.4class.Scott+Renshaw\n",
            "scaledata/Steve+Rhodes/\n",
            "scaledata/Steve+Rhodes/subj.Steve+Rhodes\n",
            "scaledata/Steve+Rhodes/id.Steve+Rhodes\n",
            "scaledata/Steve+Rhodes/rating.Steve+Rhodes\n",
            "scaledata/Steve+Rhodes/label.3class.Steve+Rhodes\n",
            "scaledata/Steve+Rhodes/label.4class.Steve+Rhodes\n"
          ]
        }
      ]
    },
    {
      "cell_type": "code",
      "source": [
        "! tar -xvzf /content/scale_whole_review.tar.gz"
      ],
      "metadata": {
        "id": "3D1AqDYeSgM_"
      },
      "execution_count": null,
      "outputs": []
    },
    {
      "cell_type": "markdown",
      "source": [
        "### Reading data block"
      ],
      "metadata": {
        "id": "IGttijrutFnC"
      }
    },
    {
      "cell_type": "code",
      "source": [
        "from os import listdir\n",
        "\n",
        "# load scale data into memory\n",
        "def load_doc(filename):\n",
        "   # open the file as read only\n",
        "   file = open(filename, 'r')\n",
        "   # read all text\n",
        "   text = file.read().splitlines()\n",
        "   # close the file\n",
        "   file.close()\n",
        "   return text\n",
        "\n",
        "# load full reviews into memory\n",
        "def load_review(filename):\n",
        "   # open the file as read only\n",
        "   file = open(filename, 'r', errors='ignore')\n",
        "   # read all text\n",
        "   text = file.read()\n",
        "   # close the file\n",
        "   file.close()\n",
        "   return text\n",
        "\n",
        "def process_docs(directory):\n",
        "  df = pd.DataFrame()\n",
        "  # walk through all files in the folder\n",
        "  for filename in listdir(directory):\n",
        "    # create the full path of the file to open\n",
        "    path = directory + '/' + filename\n",
        "    # load document\n",
        "    doc = load_doc(path)\n",
        "    #print(doc)\n",
        "    df[filename.split('.')[0]] = doc\n",
        "\n",
        "  df['reviewer'] = filename.split('.')[1]\n",
        "\n",
        "  return df\n",
        "\n",
        "def add_reviews_text(directory, reviewer):\n",
        "  path = directory + reviewer\n",
        "  df = pd.DataFrame()\n",
        "  directory = path + '/txt.parag'\n",
        "  # walk through all files in the folder\n",
        "  for filename in listdir(directory):\n",
        "    tmp_df = pd.DataFrame()\n",
        "    # create the full path of the file to open\n",
        "    path = directory + '/' + filename\n",
        "    # load document\n",
        "    doc = load_review(path)\n",
        "\n",
        "    tmp_df = pd.DataFrame({'id': filename.split('.')[0], 'review_text': doc}, index = [0])\n",
        "\n",
        "    df = pd.concat([df,tmp_df], axis = 0)\n",
        "\n",
        "  return df\n"
      ],
      "metadata": {
        "id": "H5nha4eM1C-0"
      },
      "execution_count": null,
      "outputs": []
    },
    {
      "cell_type": "markdown",
      "source": [
        "### Text processing"
      ],
      "metadata": {
        "id": "VI2hgpKABj7z"
      }
    },
    {
      "cell_type": "code",
      "source": [
        "def text_preprocessing(s):\n",
        "    \"\"\"\n",
        "    - Remove \"@name\"\n",
        "    - Remove other special characters\n",
        "    - Remove trailing whitespace and \\n \\t\n",
        "    \"\"\"\n",
        "    # Remove @name\n",
        "    s = re.sub(r'(@.*?)[\\s]', ' ', s)\n",
        "\n",
        "    # Remove some special characters\n",
        "    s = re.sub(r'([\\;\\:\\|•«\\n])', ' ', s)\n",
        "    # Replace '&amp;' with '&'\n",
        "    s = re.sub(r'&amp;', '&', s)\n",
        "    # Remove trailing whitespace\n",
        "    s = re.sub(r'\\s+', ' ', s).strip()\n",
        "\n",
        "    s = re.sub(r\"http\\S+\", \"\", s)\n",
        "\n",
        "    for symb in [\"!\", \",\", \":\", \";\", \"?\"]:\n",
        "      s = re.sub(rf\"\\{symb}\\.\", symb, s)\n",
        "\n",
        "    s = re.sub(r\"#\\S+\", \"\", s)\n",
        "    s = s.strip()\n",
        "\n",
        "    return s"
      ],
      "metadata": {
        "id": "6m4gmhu8luTr"
      },
      "execution_count": null,
      "outputs": []
    },
    {
      "cell_type": "code",
      "source": [
        "def set_seed(seed: int = 42) -> None:\n",
        "    np.random.seed(seed)\n",
        "    random.seed(seed)\n",
        "    torch.manual_seed(seed)\n",
        "    torch.cuda.manual_seed(seed)\n",
        "    # When running on the CuDNN backend, two further options must be set\n",
        "    torch.backends.cudnn.deterministic = True\n",
        "    torch.backends.cudnn.benchmark = False\n",
        "    # Set a fixed value for the hash seed\n",
        "    os.environ[\"PYTHONHASHSEED\"] = str(seed)\n",
        "    print(f\"Random seed set as {seed}\")\n"
      ],
      "metadata": {
        "id": "YdQePeBonjvX"
      },
      "execution_count": null,
      "outputs": []
    },
    {
      "cell_type": "code",
      "source": [
        "reviewers = reviewers = listdir('/content/scaledata')\n",
        "reviewers"
      ],
      "metadata": {
        "colab": {
          "base_uri": "https://localhost:8080/"
        },
        "id": "6O7x7PCUwkdQ",
        "outputId": "d09e9cb8-d061-41c4-e39e-3e0d2d40b9af"
      },
      "execution_count": null,
      "outputs": [
        {
          "output_type": "execute_result",
          "data": {
            "text/plain": [
              "['Steve+Rhodes', 'Dennis+Schwartz', 'James+Berardinelli', 'Scott+Renshaw']"
            ]
          },
          "metadata": {},
          "execution_count": 9
        }
      ]
    },
    {
      "cell_type": "code",
      "source": [
        "# combine data to one dataframe\n",
        "scale_data = pd.DataFrame()\n",
        "scale_whole_review = pd.DataFrame()\n",
        "\n",
        "for each_reviewer in tqdm(reviewers):\n",
        "  files_for_each_reviewer = '/content/scaledata/' + each_reviewer\n",
        "\n",
        "  df = process_docs(files_for_each_reviewer)\n",
        "  scale_data = pd.concat([scale_data, df], axis = 0)\n",
        "\n",
        "  # read reviews text\n",
        "  df_review = add_reviews_text(directory ='/content/scale_whole_review/', reviewer = each_reviewer)\n",
        "\n",
        "  scale_whole_review = pd.concat([scale_whole_review, df_review], axis = 0)\n"
      ],
      "metadata": {
        "colab": {
          "base_uri": "https://localhost:8080/"
        },
        "id": "_DZimKZHwdBd",
        "outputId": "860411d6-c48a-4c2a-9159-3c8edbc8ded1"
      },
      "execution_count": null,
      "outputs": [
        {
          "output_type": "stream",
          "name": "stderr",
          "text": [
            "100%|██████████| 4/4 [00:04<00:00,  1.01s/it]\n"
          ]
        }
      ]
    },
    {
      "cell_type": "code",
      "source": [
        "data = scale_data.merge(scale_whole_review, on = 'id', how = 'left')"
      ],
      "metadata": {
        "id": "yXq4XU0N6_66"
      },
      "execution_count": null,
      "outputs": []
    },
    {
      "cell_type": "code",
      "source": [
        "# convert rating to float as we'll solve regression task\n",
        "data['rating'] = data['rating'].astype(float)"
      ],
      "metadata": {
        "id": "lYQjQv1_Gol0"
      },
      "execution_count": null,
      "outputs": []
    },
    {
      "cell_type": "code",
      "source": [
        "data.head(), data.shape, data.dtypes"
      ],
      "metadata": {
        "colab": {
          "base_uri": "https://localhost:8080/"
        },
        "id": "7YF3QIvxGvPU",
        "outputId": "b7a0c609-cc84-4baa-9332-339c2c23e633"
      },
      "execution_count": null,
      "outputs": [
        {
          "output_type": "execute_result",
          "data": {
            "text/plain": [
              "(  label                                               subj     id  rating  \\\n",
              " 0     0  this bit of lame physical humor is typical of ...  11790     0.1   \n",
              " 1     0  some comedies are not funny no matter how hard...  17628     0.1   \n",
              " 2     0  you'll check your watch frequently waiting for...  18971     0.1   \n",
              " 3     0  freddy got fingered , written and directed by ...  28767     0.1   \n",
              " 4     0  it is a mess of a movie . if you are so advent...   3579     0.1   \n",
              " \n",
              "        reviewer                                        review_text  \n",
              " 0  Steve+Rhodes  As the twin surfer dudes, Stew and Phil Deedle...  \n",
              " 1  Steve+Rhodes  Some comedies are not funny no matter how hard...  \n",
              " 2  Steve+Rhodes  You'll check your watch frequently waiting for...  \n",
              " 3  Steve+Rhodes  FREDDY GOT FINGERED, written and directed by i...  \n",
              " 4  Steve+Rhodes  COLOR OF NIGHT is an instant candidate for all...  ,\n",
              " (5006, 6),\n",
              " label           object\n",
              " subj            object\n",
              " id              object\n",
              " rating         float64\n",
              " reviewer        object\n",
              " review_text     object\n",
              " dtype: object)"
            ]
          },
          "metadata": {},
          "execution_count": 13
        }
      ]
    },
    {
      "cell_type": "code",
      "source": [
        "# for training\n",
        "data['label'] = data['rating']\n",
        "data['text'] = data['subj']\n",
        "\n",
        "data['text'] = data['text'].apply(text_preprocessing)"
      ],
      "metadata": {
        "id": "EqtvqfZzHAN4"
      },
      "execution_count": null,
      "outputs": []
    },
    {
      "cell_type": "code",
      "source": [
        "data.head()"
      ],
      "metadata": {
        "colab": {
          "base_uri": "https://localhost:8080/",
          "height": 293
        },
        "id": "L5HVaNr3BrOj",
        "outputId": "15c98f3f-8fd6-4c1b-c03c-a30f3b322cc9"
      },
      "execution_count": null,
      "outputs": [
        {
          "output_type": "execute_result",
          "data": {
            "text/plain": [
              "   label                                               subj     id  rating  \\\n",
              "0    0.1  this bit of lame physical humor is typical of ...  11790     0.1   \n",
              "1    0.1  some comedies are not funny no matter how hard...  17628     0.1   \n",
              "2    0.1  you'll check your watch frequently waiting for...  18971     0.1   \n",
              "3    0.1  freddy got fingered , written and directed by ...  28767     0.1   \n",
              "4    0.1  it is a mess of a movie . if you are so advent...   3579     0.1   \n",
              "\n",
              "       reviewer                                        review_text  \\\n",
              "0  Steve+Rhodes  As the twin surfer dudes, Stew and Phil Deedle...   \n",
              "1  Steve+Rhodes  Some comedies are not funny no matter how hard...   \n",
              "2  Steve+Rhodes  You'll check your watch frequently waiting for...   \n",
              "3  Steve+Rhodes  FREDDY GOT FINGERED, written and directed by i...   \n",
              "4  Steve+Rhodes  COLOR OF NIGHT is an instant candidate for all...   \n",
              "\n",
              "                                                text  \n",
              "0  this bit of lame physical humor is typical of ...  \n",
              "1  some comedies are not funny no matter how hard...  \n",
              "2  you'll check your watch frequently waiting for...  \n",
              "3  freddy got fingered , written and directed by ...  \n",
              "4  it is a mess of a movie . if you are so advent...  "
            ],
            "text/html": [
              "\n",
              "  <div id=\"df-0994f5bd-0d45-42f7-8c72-cd6a9378282a\" class=\"colab-df-container\">\n",
              "    <div>\n",
              "<style scoped>\n",
              "    .dataframe tbody tr th:only-of-type {\n",
              "        vertical-align: middle;\n",
              "    }\n",
              "\n",
              "    .dataframe tbody tr th {\n",
              "        vertical-align: top;\n",
              "    }\n",
              "\n",
              "    .dataframe thead th {\n",
              "        text-align: right;\n",
              "    }\n",
              "</style>\n",
              "<table border=\"1\" class=\"dataframe\">\n",
              "  <thead>\n",
              "    <tr style=\"text-align: right;\">\n",
              "      <th></th>\n",
              "      <th>label</th>\n",
              "      <th>subj</th>\n",
              "      <th>id</th>\n",
              "      <th>rating</th>\n",
              "      <th>reviewer</th>\n",
              "      <th>review_text</th>\n",
              "      <th>text</th>\n",
              "    </tr>\n",
              "  </thead>\n",
              "  <tbody>\n",
              "    <tr>\n",
              "      <th>0</th>\n",
              "      <td>0.1</td>\n",
              "      <td>this bit of lame physical humor is typical of ...</td>\n",
              "      <td>11790</td>\n",
              "      <td>0.1</td>\n",
              "      <td>Steve+Rhodes</td>\n",
              "      <td>As the twin surfer dudes, Stew and Phil Deedle...</td>\n",
              "      <td>this bit of lame physical humor is typical of ...</td>\n",
              "    </tr>\n",
              "    <tr>\n",
              "      <th>1</th>\n",
              "      <td>0.1</td>\n",
              "      <td>some comedies are not funny no matter how hard...</td>\n",
              "      <td>17628</td>\n",
              "      <td>0.1</td>\n",
              "      <td>Steve+Rhodes</td>\n",
              "      <td>Some comedies are not funny no matter how hard...</td>\n",
              "      <td>some comedies are not funny no matter how hard...</td>\n",
              "    </tr>\n",
              "    <tr>\n",
              "      <th>2</th>\n",
              "      <td>0.1</td>\n",
              "      <td>you'll check your watch frequently waiting for...</td>\n",
              "      <td>18971</td>\n",
              "      <td>0.1</td>\n",
              "      <td>Steve+Rhodes</td>\n",
              "      <td>You'll check your watch frequently waiting for...</td>\n",
              "      <td>you'll check your watch frequently waiting for...</td>\n",
              "    </tr>\n",
              "    <tr>\n",
              "      <th>3</th>\n",
              "      <td>0.1</td>\n",
              "      <td>freddy got fingered , written and directed by ...</td>\n",
              "      <td>28767</td>\n",
              "      <td>0.1</td>\n",
              "      <td>Steve+Rhodes</td>\n",
              "      <td>FREDDY GOT FINGERED, written and directed by i...</td>\n",
              "      <td>freddy got fingered , written and directed by ...</td>\n",
              "    </tr>\n",
              "    <tr>\n",
              "      <th>4</th>\n",
              "      <td>0.1</td>\n",
              "      <td>it is a mess of a movie . if you are so advent...</td>\n",
              "      <td>3579</td>\n",
              "      <td>0.1</td>\n",
              "      <td>Steve+Rhodes</td>\n",
              "      <td>COLOR OF NIGHT is an instant candidate for all...</td>\n",
              "      <td>it is a mess of a movie . if you are so advent...</td>\n",
              "    </tr>\n",
              "  </tbody>\n",
              "</table>\n",
              "</div>\n",
              "    <div class=\"colab-df-buttons\">\n",
              "\n",
              "  <div class=\"colab-df-container\">\n",
              "    <button class=\"colab-df-convert\" onclick=\"convertToInteractive('df-0994f5bd-0d45-42f7-8c72-cd6a9378282a')\"\n",
              "            title=\"Convert this dataframe to an interactive table.\"\n",
              "            style=\"display:none;\">\n",
              "\n",
              "  <svg xmlns=\"http://www.w3.org/2000/svg\" height=\"24px\" viewBox=\"0 -960 960 960\">\n",
              "    <path d=\"M120-120v-720h720v720H120Zm60-500h600v-160H180v160Zm220 220h160v-160H400v160Zm0 220h160v-160H400v160ZM180-400h160v-160H180v160Zm440 0h160v-160H620v160ZM180-180h160v-160H180v160Zm440 0h160v-160H620v160Z\"/>\n",
              "  </svg>\n",
              "    </button>\n",
              "\n",
              "  <style>\n",
              "    .colab-df-container {\n",
              "      display:flex;\n",
              "      gap: 12px;\n",
              "    }\n",
              "\n",
              "    .colab-df-convert {\n",
              "      background-color: #E8F0FE;\n",
              "      border: none;\n",
              "      border-radius: 50%;\n",
              "      cursor: pointer;\n",
              "      display: none;\n",
              "      fill: #1967D2;\n",
              "      height: 32px;\n",
              "      padding: 0 0 0 0;\n",
              "      width: 32px;\n",
              "    }\n",
              "\n",
              "    .colab-df-convert:hover {\n",
              "      background-color: #E2EBFA;\n",
              "      box-shadow: 0px 1px 2px rgba(60, 64, 67, 0.3), 0px 1px 3px 1px rgba(60, 64, 67, 0.15);\n",
              "      fill: #174EA6;\n",
              "    }\n",
              "\n",
              "    .colab-df-buttons div {\n",
              "      margin-bottom: 4px;\n",
              "    }\n",
              "\n",
              "    [theme=dark] .colab-df-convert {\n",
              "      background-color: #3B4455;\n",
              "      fill: #D2E3FC;\n",
              "    }\n",
              "\n",
              "    [theme=dark] .colab-df-convert:hover {\n",
              "      background-color: #434B5C;\n",
              "      box-shadow: 0px 1px 3px 1px rgba(0, 0, 0, 0.15);\n",
              "      filter: drop-shadow(0px 1px 2px rgba(0, 0, 0, 0.3));\n",
              "      fill: #FFFFFF;\n",
              "    }\n",
              "  </style>\n",
              "\n",
              "    <script>\n",
              "      const buttonEl =\n",
              "        document.querySelector('#df-0994f5bd-0d45-42f7-8c72-cd6a9378282a button.colab-df-convert');\n",
              "      buttonEl.style.display =\n",
              "        google.colab.kernel.accessAllowed ? 'block' : 'none';\n",
              "\n",
              "      async function convertToInteractive(key) {\n",
              "        const element = document.querySelector('#df-0994f5bd-0d45-42f7-8c72-cd6a9378282a');\n",
              "        const dataTable =\n",
              "          await google.colab.kernel.invokeFunction('convertToInteractive',\n",
              "                                                    [key], {});\n",
              "        if (!dataTable) return;\n",
              "\n",
              "        const docLinkHtml = 'Like what you see? Visit the ' +\n",
              "          '<a target=\"_blank\" href=https://colab.research.google.com/notebooks/data_table.ipynb>data table notebook</a>'\n",
              "          + ' to learn more about interactive tables.';\n",
              "        element.innerHTML = '';\n",
              "        dataTable['output_type'] = 'display_data';\n",
              "        await google.colab.output.renderOutput(dataTable, element);\n",
              "        const docLink = document.createElement('div');\n",
              "        docLink.innerHTML = docLinkHtml;\n",
              "        element.appendChild(docLink);\n",
              "      }\n",
              "    </script>\n",
              "  </div>\n",
              "\n",
              "\n",
              "<div id=\"df-e000fd18-4f9a-4433-873a-11c22d352516\">\n",
              "  <button class=\"colab-df-quickchart\" onclick=\"quickchart('df-e000fd18-4f9a-4433-873a-11c22d352516')\"\n",
              "            title=\"Suggest charts\"\n",
              "            style=\"display:none;\">\n",
              "\n",
              "<svg xmlns=\"http://www.w3.org/2000/svg\" height=\"24px\"viewBox=\"0 0 24 24\"\n",
              "     width=\"24px\">\n",
              "    <g>\n",
              "        <path d=\"M19 3H5c-1.1 0-2 .9-2 2v14c0 1.1.9 2 2 2h14c1.1 0 2-.9 2-2V5c0-1.1-.9-2-2-2zM9 17H7v-7h2v7zm4 0h-2V7h2v10zm4 0h-2v-4h2v4z\"/>\n",
              "    </g>\n",
              "</svg>\n",
              "  </button>\n",
              "\n",
              "<style>\n",
              "  .colab-df-quickchart {\n",
              "      --bg-color: #E8F0FE;\n",
              "      --fill-color: #1967D2;\n",
              "      --hover-bg-color: #E2EBFA;\n",
              "      --hover-fill-color: #174EA6;\n",
              "      --disabled-fill-color: #AAA;\n",
              "      --disabled-bg-color: #DDD;\n",
              "  }\n",
              "\n",
              "  [theme=dark] .colab-df-quickchart {\n",
              "      --bg-color: #3B4455;\n",
              "      --fill-color: #D2E3FC;\n",
              "      --hover-bg-color: #434B5C;\n",
              "      --hover-fill-color: #FFFFFF;\n",
              "      --disabled-bg-color: #3B4455;\n",
              "      --disabled-fill-color: #666;\n",
              "  }\n",
              "\n",
              "  .colab-df-quickchart {\n",
              "    background-color: var(--bg-color);\n",
              "    border: none;\n",
              "    border-radius: 50%;\n",
              "    cursor: pointer;\n",
              "    display: none;\n",
              "    fill: var(--fill-color);\n",
              "    height: 32px;\n",
              "    padding: 0;\n",
              "    width: 32px;\n",
              "  }\n",
              "\n",
              "  .colab-df-quickchart:hover {\n",
              "    background-color: var(--hover-bg-color);\n",
              "    box-shadow: 0 1px 2px rgba(60, 64, 67, 0.3), 0 1px 3px 1px rgba(60, 64, 67, 0.15);\n",
              "    fill: var(--button-hover-fill-color);\n",
              "  }\n",
              "\n",
              "  .colab-df-quickchart-complete:disabled,\n",
              "  .colab-df-quickchart-complete:disabled:hover {\n",
              "    background-color: var(--disabled-bg-color);\n",
              "    fill: var(--disabled-fill-color);\n",
              "    box-shadow: none;\n",
              "  }\n",
              "\n",
              "  .colab-df-spinner {\n",
              "    border: 2px solid var(--fill-color);\n",
              "    border-color: transparent;\n",
              "    border-bottom-color: var(--fill-color);\n",
              "    animation:\n",
              "      spin 1s steps(1) infinite;\n",
              "  }\n",
              "\n",
              "  @keyframes spin {\n",
              "    0% {\n",
              "      border-color: transparent;\n",
              "      border-bottom-color: var(--fill-color);\n",
              "      border-left-color: var(--fill-color);\n",
              "    }\n",
              "    20% {\n",
              "      border-color: transparent;\n",
              "      border-left-color: var(--fill-color);\n",
              "      border-top-color: var(--fill-color);\n",
              "    }\n",
              "    30% {\n",
              "      border-color: transparent;\n",
              "      border-left-color: var(--fill-color);\n",
              "      border-top-color: var(--fill-color);\n",
              "      border-right-color: var(--fill-color);\n",
              "    }\n",
              "    40% {\n",
              "      border-color: transparent;\n",
              "      border-right-color: var(--fill-color);\n",
              "      border-top-color: var(--fill-color);\n",
              "    }\n",
              "    60% {\n",
              "      border-color: transparent;\n",
              "      border-right-color: var(--fill-color);\n",
              "    }\n",
              "    80% {\n",
              "      border-color: transparent;\n",
              "      border-right-color: var(--fill-color);\n",
              "      border-bottom-color: var(--fill-color);\n",
              "    }\n",
              "    90% {\n",
              "      border-color: transparent;\n",
              "      border-bottom-color: var(--fill-color);\n",
              "    }\n",
              "  }\n",
              "</style>\n",
              "\n",
              "  <script>\n",
              "    async function quickchart(key) {\n",
              "      const quickchartButtonEl =\n",
              "        document.querySelector('#' + key + ' button');\n",
              "      quickchartButtonEl.disabled = true;  // To prevent multiple clicks.\n",
              "      quickchartButtonEl.classList.add('colab-df-spinner');\n",
              "      try {\n",
              "        const charts = await google.colab.kernel.invokeFunction(\n",
              "            'suggestCharts', [key], {});\n",
              "      } catch (error) {\n",
              "        console.error('Error during call to suggestCharts:', error);\n",
              "      }\n",
              "      quickchartButtonEl.classList.remove('colab-df-spinner');\n",
              "      quickchartButtonEl.classList.add('colab-df-quickchart-complete');\n",
              "    }\n",
              "    (() => {\n",
              "      let quickchartButtonEl =\n",
              "        document.querySelector('#df-e000fd18-4f9a-4433-873a-11c22d352516 button');\n",
              "      quickchartButtonEl.style.display =\n",
              "        google.colab.kernel.accessAllowed ? 'block' : 'none';\n",
              "    })();\n",
              "  </script>\n",
              "</div>\n",
              "    </div>\n",
              "  </div>\n"
            ]
          },
          "metadata": {},
          "execution_count": 15
        }
      ]
    },
    {
      "cell_type": "code",
      "source": [
        "data.to_csv('train_data.csv')"
      ],
      "metadata": {
        "id": "zg1uvwO3G1ms"
      },
      "execution_count": null,
      "outputs": []
    },
    {
      "cell_type": "code",
      "source": [
        "import torch\n",
        "import pandas as pd\n",
        "from torch.utils.data import Dataset, DataLoader\n",
        "from transformers import BertForSequenceClassification, BertTokenizer, AdamW\n",
        "\n",
        "set_seed(555)\n",
        "\n",
        "class MovieReviewDataset(Dataset):\n",
        "    def __init__(self, data_path, tokenizer, max_seq_length=512):\n",
        "        # select smaller sample to make fune-tuning fast\n",
        "        self.data = pd.read_csv(data_path,  usecols =['label', 'text']).sample(1000)\n",
        "        self.tokenizer = tokenizer\n",
        "        self.max_seq_length = max_seq_length\n",
        "\n",
        "    def __len__(self):\n",
        "        return len(self.data)\n",
        "\n",
        "    def __getitem__(self, idx):\n",
        "        label = torch.tensor(self.data.iloc[idx]['label'], dtype=torch.float)\n",
        "        text = self.data.iloc[idx]['text']\n",
        "\n",
        "        tokens = self.tokenizer(text, return_tensors='pt', padding='max_length', truncation=True, max_length=self.max_seq_length)\n",
        "        input_ids = tokens['input_ids'].squeeze()\n",
        "        attention_mask = tokens['attention_mask'].squeeze()\n",
        "\n",
        "        return input_ids, attention_mask, label\n",
        "\n",
        "class SentimentAnalysisBertFineTuner:\n",
        "    def __init__(self, model_name, data_path, max_seq_length=512, window_size=512, overlap=32, learning_rate=2e-5):\n",
        "        self.device = torch.device(\"cuda\" if torch.cuda.is_available() else \"cpu\")\n",
        "        self.model = BertForSequenceClassification.from_pretrained(model_name, num_labels=1)\n",
        "        self.tokenizer = BertTokenizer.from_pretrained(model_name)\n",
        "        self.model.to(self.device)\n",
        "        self.train_dataset = MovieReviewDataset(data_path, self.tokenizer, max_seq_length=max_seq_length)\n",
        "        self.max_seq_length = max_seq_length\n",
        "        self.window_size = window_size\n",
        "        self.overlap = overlap\n",
        "        self.learning_rate = learning_rate\n",
        "\n",
        "    def tokenize(self, text):\n",
        "        tokens_list = []\n",
        "        input_ids_list = []\n",
        "        attention_mask_list = []\n",
        "\n",
        "        start_idx = 0\n",
        "        while start_idx < len(text):\n",
        "            end_idx = start_idx + self.window_size\n",
        "            window_text = text[start_idx:end_idx]\n",
        "\n",
        "            tokens = self.tokenizer(window_text, return_tensors='pt', padding='max_length', truncation=True, max_length=self.max_seq_length)\n",
        "\n",
        "            tokens_list.append(tokens)\n",
        "            input_ids_list.append(tokens['input_ids'].squeeze().to(self.device))\n",
        "            attention_mask_list.append(tokens['attention_mask'].squeeze().to(self.device))\n",
        "\n",
        "            start_idx += self.window_size - self.overlap\n",
        "\n",
        "        return tokens_list, input_ids_list, attention_mask_list\n",
        "\n",
        "    def custom_loss_function(self, predictions, targets):\n",
        "        each_example_loss = torch.nn.MSELoss()(predictions.view(-1), targets.view(-1))\n",
        "        return each_example_loss\n",
        "\n",
        "    def fine_tune(self, epochs=3, validation_split=0.2):\n",
        "        # Split data into training and validation sets\n",
        "        total_size = len(self.train_dataset)\n",
        "        train_size = int((1.0 - validation_split) * total_size)\n",
        "        val_size = total_size - train_size\n",
        "        train_dataset, val_dataset = random_split(self.train_dataset, [train_size, val_size])\n",
        "\n",
        "        optimizer = AdamW(self.model.parameters(), lr=self.learning_rate)\n",
        "        train_dataloader = DataLoader(train_dataset, batch_size=8, shuffle=True)\n",
        "        val_dataloader = DataLoader(val_dataset, batch_size=8, shuffle=False)\n",
        "\n",
        "        for epoch in range(epochs):\n",
        "            self.model.train()\n",
        "\n",
        "            epoch_loss = 0.0\n",
        "            num_windows = 0\n",
        "\n",
        "            for input_ids, attention_mask, label in train_dataloader:\n",
        "                input_ids = input_ids.to(self.device)\n",
        "                attention_mask = attention_mask.to(self.device)\n",
        "                label = label.to(self.device)\n",
        "\n",
        "                for i in range(len(input_ids)):\n",
        "                    predictions = self.model(input_ids[i].unsqueeze(0), attention_mask=attention_mask[i].unsqueeze(0)).logits\n",
        "                    each_example_loss = self.custom_loss_function(predictions, label[i].unsqueeze(0))\n",
        "                    epoch_loss += each_example_loss.item()\n",
        "                    num_windows += 1\n",
        "\n",
        "                mean_loss = epoch_loss / num_windows\n",
        "\n",
        "                optimizer.zero_grad()\n",
        "\n",
        "                mean_loss_tensor = torch.tensor(mean_loss, requires_grad=True, device=self.device)\n",
        "                mean_loss_tensor.backward()\n",
        "\n",
        "                optimizer.step()\n",
        "\n",
        "            # Validation\n",
        "            val_loss = 0.0\n",
        "            num_val_windows = 0\n",
        "            val_predictions_list = []\n",
        "            val_labels_list = []\n",
        "\n",
        "            with torch.no_grad():\n",
        "\n",
        "              for val_input_ids, val_attention_mask, val_label in val_dataloader:\n",
        "                    val_input_ids = val_input_ids.to(self.device)\n",
        "                    val_attention_mask = val_attention_mask.to(self.device)\n",
        "                    val_label = val_label.to(self.device)\n",
        "\n",
        "                    for i in range(len(val_input_ids)):\n",
        "\n",
        "                      val_predictions = self.model(val_input_ids[i].unsqueeze(0), attention_mask=val_attention_mask[i].unsqueeze(0)).logits\n",
        "                      val_each_example_loss = self.custom_loss_function(val_predictions, val_label[i].unsqueeze(0))\n",
        "                      val_loss += val_each_example_loss.item()\n",
        "                      num_val_windows += 1\n",
        "\n",
        "                      val_predictions_list.append(val_predictions.cpu().numpy())\n",
        "                      val_labels_list.append(val_label[i].item())  # Use item() to get the scalar value\n",
        "\n",
        "                    val_mean_loss = val_loss / num_val_windows\n",
        "                    val_predictions_array = torch.tensor(val_predictions_list).flatten()\n",
        "                    val_labels_array = torch.tensor(val_labels_list)\n",
        "\n",
        "              val_mse = torch.nn.MSELoss()(val_predictions_array, val_labels_array)\n",
        "\n",
        "              print(f\"Epoch {epoch + 1}/{epochs}, Train Loss: {mean_loss}, Validation MSE: {val_mse}\")\n",
        "\n",
        "              # Reset validation loss variables for the next epoch\n",
        "              val_loss = 0.0\n",
        "              num_val_windows = 0\n",
        "\n",
        "\n",
        "    def predict(self, text):\n",
        "        self.model.eval()\n",
        "\n",
        "        tokens_list, input_ids_list, attention_mask_list = self.tokenize(text)\n",
        "\n",
        "        all_predictions = []\n",
        "        for i in range(len(tokens_list)):\n",
        "            predictions = self.model(input_ids_list[i].unsqueeze(0), attention_mask=attention_mask_list[i].unsqueeze(0)).logits\n",
        "            all_predictions.append(predictions.item())\n",
        "\n",
        "        mean_prediction = sum(all_predictions) / len(all_predictions)\n",
        "\n",
        "        return mean_prediction\n",
        "\n",
        "    def save_model(self, save_path):\n",
        "        self.model.save_pretrained(save_path)\n",
        "        self.tokenizer.save_pretrained(save_path)\n",
        "\n",
        "\n",
        "\n",
        "# Example usage:\n",
        "# Specify the paths to the BERT model, sentiment dataset, and choose hyperparameters\n",
        "model_name = \"bert-base-uncased\"\n",
        "data_path = \"/content/train_data.csv\"\n",
        "max_seq_length = 512\n",
        "window_size = 512\n",
        "overlap = 32\n",
        "learning_rate = 3e-5\n",
        "\n",
        "# Instantiate the SentimentAnalysisBertFineTuner\n",
        "sentiment_tuner = SentimentAnalysisBertFineTuner(model_name, data_path, max_seq_length, window_size, overlap, learning_rate)\n",
        "\n",
        "# Fine-tune the model\n",
        "sentiment_tuner.fine_tune(epochs = 3, validation_split = 0.1)\n",
        "\n",
        "# Save the fine-tuned model\n",
        "sentiment_tuner.save_model(\"fine_tuned_model\")\n"
      ],
      "metadata": {
        "id": "-tuprzrP5c-C",
        "colab": {
          "base_uri": "https://localhost:8080/"
        },
        "outputId": "48ae51ee-a423-4e35-80fb-c52ceb53b83d"
      },
      "execution_count": null,
      "outputs": [
        {
          "output_type": "stream",
          "name": "stdout",
          "text": [
            "Random seed set as 555\n"
          ]
        },
        {
          "output_type": "stream",
          "name": "stderr",
          "text": [
            "Some weights of BertForSequenceClassification were not initialized from the model checkpoint at bert-base-uncased and are newly initialized: ['classifier.bias', 'classifier.weight']\n",
            "You should probably TRAIN this model on a down-stream task to be able to use it for predictions and inference.\n",
            "/usr/local/lib/python3.10/dist-packages/transformers/optimization.py:411: FutureWarning: This implementation of AdamW is deprecated and will be removed in a future version. Use the PyTorch implementation torch.optim.AdamW instead, or set `no_deprecation_warning=True` to disable this warning\n",
            "  warnings.warn(\n"
          ]
        },
        {
          "output_type": "stream",
          "name": "stdout",
          "text": [
            "Epoch 1/3, Train Loss: 0.14892100065551206, Validation MSE: 0.14338573813438416\n",
            "Epoch 2/3, Train Loss: 0.14787406581520954, Validation MSE: 0.13723987340927124\n",
            "Epoch 3/3, Train Loss: 0.151616733649898, Validation MSE: 0.13571403920650482\n"
          ]
        }
      ]
    },
    {
      "cell_type": "markdown",
      "source": [
        "### Example of the predict"
      ],
      "metadata": {
        "id": "W-eypXFcs_oC"
      }
    },
    {
      "cell_type": "code",
      "source": [
        "sentiment_tuner.predict(data['text'][500])"
      ],
      "metadata": {
        "colab": {
          "base_uri": "https://localhost:8080/"
        },
        "id": "8MYSillBs7Aj",
        "outputId": "e0975e78-345e-4ba2-94f5-bc4230edf38a"
      },
      "execution_count": null,
      "outputs": [
        {
          "output_type": "execute_result",
          "data": {
            "text/plain": [
              "0.2810274809598923"
            ]
          },
          "metadata": {},
          "execution_count": 25
        }
      ]
    },
    {
      "cell_type": "code",
      "source": [
        "data['text'][500]"
      ],
      "metadata": {
        "colab": {
          "base_uri": "https://localhost:8080/",
          "height": 143
        },
        "id": "eAQnGujjswuL",
        "outputId": "846447c7-0ed5-4239-f527-10d20464dd8e"
      },
      "execution_count": null,
      "outputs": [
        {
          "output_type": "execute_result",
          "data": {
            "text/plain": [
              "\"it's the 1930s -- the time of the great depression . this might lead one to believe that the film is a hard-hitting indictment of politics run amuck , but it isn't . everything is rushed . robbins then quickly cuts to an entirely different group of actors telling another part of the story . among the many stereotyped characters in the cluttered script are a giddy liberal socialite , countess lagrange ( vanessa redgrave ) , who gets her strike news delivered on a silver platter by her servants . none of the characters are compelling , and , if the movie had aired on television , i'm sure i would have turned it off long before it was over . very much in the spirit of illuminata , which opened this past summer , the fast-paced cradle will rock takes a comedic backstage look at the production of a play . and like illuminata , although it has its moments , it never comes together in anything approaching a satisfying whole . i would be inclined to suggest that you just wait for the video and use the fast forward to get to the good parts , but this would require you to fast forward through almost the entire picture , making it not worth the cost . it is rated r for language , nudity and sex and would be acceptable for teenagers .\""
            ],
            "application/vnd.google.colaboratory.intrinsic+json": {
              "type": "string"
            }
          },
          "metadata": {},
          "execution_count": 26
        }
      ]
    },
    {
      "cell_type": "code",
      "source": [
        "data['rating'][500]"
      ],
      "metadata": {
        "colab": {
          "base_uri": "https://localhost:8080/"
        },
        "id": "lBaZZiXOxbZj",
        "outputId": "4969bd77-e229-4a2a-de5d-b8a87195ebbe"
      },
      "execution_count": null,
      "outputs": [
        {
          "output_type": "execute_result",
          "data": {
            "text/plain": [
              "0.5"
            ]
          },
          "metadata": {},
          "execution_count": 27
        }
      ]
    }
  ]
}